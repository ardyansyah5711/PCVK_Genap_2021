{
  "nbformat": 4,
  "nbformat_minor": 0,
  "metadata": {
    "colab": {
      "name": "Week 10",
      "provenance": [],
      "authorship_tag": "ABX9TyNveAGmkL6FSFLU6fVTj06f",
      "include_colab_link": true
    },
    "kernelspec": {
      "name": "python3",
      "display_name": "Python 3"
    },
    "language_info": {
      "name": "python"
    }
  },
  "cells": [
    {
      "cell_type": "markdown",
      "metadata": {
        "id": "view-in-github",
        "colab_type": "text"
      },
      "source": [
        "<a href=\"https://colab.research.google.com/github/ardyansyah5711/PCVK_Genap_2021/blob/main/Week_10.ipynb\" target=\"_parent\"><img src=\"https://colab.research.google.com/assets/colab-badge.svg\" alt=\"Open In Colab\"/></a>"
      ]
    },
    {
      "cell_type": "code",
      "metadata": {
        "colab": {
          "base_uri": "https://localhost:8080/"
        },
        "id": "qHW8RRwhbTfs",
        "outputId": "e003475d-94f5-4736-8377-e1bf3898fef0"
      },
      "source": [
        "from google.colab import drive\n",
        "\n",
        "drive.mount('/content/drive')"
      ],
      "execution_count": 1,
      "outputs": [
        {
          "output_type": "stream",
          "text": [
            "Mounted at /content/drive\n"
          ],
          "name": "stdout"
        }
      ]
    },
    {
      "cell_type": "code",
      "metadata": {
        "id": "uH61lKsJbkTG"
      },
      "source": [
        "import cv2 as cv\n",
        "import numpy as np\n",
        "import matplotlib.pyplot as plt"
      ],
      "execution_count": 2,
      "outputs": []
    },
    {
      "cell_type": "code",
      "metadata": {
        "colab": {
          "base_uri": "https://localhost:8080/",
          "height": 224
        },
        "id": "_aALEYMsbraQ",
        "outputId": "28d2df40-c2f8-4ce5-cba7-20a328b331f9"
      },
      "source": [
        "# no 3\n",
        "#Dengan Library\n",
        "img = cv.imread('/content/drive/MyDrive/PCVK/Week 10/gradient.jpg',0)\n",
        "ret,thresh1 = cv.threshold(img,127,255,cv.THRESH_BINARY)\n",
        "ret,thresh2 = cv.threshold(img,127,255,cv.THRESH_BINARY_INV)\n",
        "ret,thresh3 = cv.threshold(img,127,255,cv.THRESH_TRUNC)\n",
        "ret,thresh4 = cv.threshold(img,127,255,cv.THRESH_TOZERO)\n",
        "ret,thresh5 = cv.threshold(img,127,255,cv.THRESH_TOZERO_INV)\n",
        "\n",
        "titles = ['Original Image','BINARY','BINARY_INV','TRUNC','TOZERO','TOZERO_INV']\n",
        "images = [img, thresh1, thresh2, thresh3, thresh4, thresh5]\n",
        "\n",
        "for i in range(6):\n",
        "    plt.subplot(2,3,i+1),plt.imshow(images[i],'gray',vmin=0,vmax=255)\n",
        "    plt.title(titles[i])\n",
        "    plt.xticks([]),plt.yticks([])\n",
        "\n",
        "plt.show()"
      ],
      "execution_count": 3,
      "outputs": [
        {
          "output_type": "display_data",
          "data": {
            "image/png": "[encoded data removed]",
            "text/plain": [
              "<Figure size 432x288 with 6 Axes>"
            ]
          },
          "metadata": {
            "tags": []
          }
        }
      ]
    },
    {
      "cell_type": "code",
      "metadata": {
        "colab": {
          "base_uri": "https://localhost:8080/",
          "height": 322
        },
        "id": "5cMOvF9mcrc3",
        "outputId": "c050885a-cd51-45ae-f450-be64ea75bb8e"
      },
      "source": [
        "#no 3\n",
        "filename = '/content/drive/MyDrive/PCVK/Week 10/gradient.jpg';\n",
        "img = cv.imread(filename) \n",
        "thresh1 = cv.imread(filename)\n",
        "thresh2 = cv.imread(filename)\n",
        "thresh3 = cv.imread(filename)\n",
        "thresh4 = cv.imread(filename)\n",
        "thresh5 = cv.imread(filename)\n",
        "\n",
        "thresh = 127 \n",
        "#nilai Threshold yang ditentukan #Original Image\n",
        "thresh1[img>thresh] = 255\n",
        "thresh1[img<=thresh] = 0\n",
        "#Binary threshold inverse \n",
        "thresh2 = 255 - thresh1\n",
        "#Threshold Truncate \n",
        "thresh3[img>thresh] = thresh\n",
        "#Threshold Tozero \n",
        "thresh4[img<=thresh] = 0\n",
        "#Threshold Tozero Inverse \n",
        "thresh5[img>thresh] = 0\n",
        "titles = ['Original Image','BINARY','BINARY_INV','TRUNC', 'TOZERO', 'TOZERO_INV'] \n",
        "images = [img, thresh1, thresh2, thresh3, thresh4, thresh5]\n",
        "\n",
        "plt.figure(figsize = (15,5))\n",
        "for i in range(len(images)):\n",
        "  plt.subplot(2,3,i+1),plt.imshow(images[i],'gray', interpolation='nearest')\n",
        "  plt.title(titles[i])\n",
        "  plt.xticks([]),plt.yticks([])\n",
        "plt.show()"
      ],
      "execution_count": 4,
      "outputs": [
        {
          "output_type": "display_data",
          "data": {
            "image/png": "[encoded data removed]",
            "text/plain": [
              "<Figure size 1080x360 with 6 Axes>"
            ]
          },
          "metadata": {
            "tags": []
          }
        }
      ]
    }
  ]
}