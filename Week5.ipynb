{
  "nbformat": 4,
  "nbformat_minor": 0,
  "metadata": {
    "colab": {
      "name": "Week5",
      "provenance": [],
      "authorship_tag": "ABX9TyP3gb/n3PIK7j4daLkI/LMM",
      "include_colab_link": true
    },
    "kernelspec": {
      "name": "python3",
      "display_name": "Python 3"
    }
  },
  "cells": [
    {
      "cell_type": "markdown",
      "metadata": {
        "id": "view-in-github",
        "colab_type": "text"
      },
      "source": [
        "<a href=\"https://colab.research.google.com/github/ardyansyah5711/PCVK_Genap_2021/blob/main/Week5.ipynb\" target=\"_parent\"><img src=\"https://colab.research.google.com/assets/colab-badge.svg\" alt=\"Open In Colab\"/></a>"
      ]
    },
    {
      "cell_type": "code",
      "metadata": {
        "id": "efIwY0F8SmWC",
        "outputId": "1527a397-1356-487e-9a3c-f90232e33c20",
        "colab": {
          "base_uri": "https://localhost:8080/"
        }
      },
      "source": [
        "from google.colab import drive \r\n",
        "drive.mount('/content/drive')"
      ],
      "execution_count": 1,
      "outputs": [
        {
          "output_type": "stream",
          "text": [
            "Mounted at /content/drive\n"
          ],
          "name": "stdout"
        }
      ]
    },
    {
      "cell_type": "code",
      "metadata": {
        "id": "me0nQ704ahQ_"
      },
      "source": [
        "import cv2 as cv\r\n",
        "from google.colab.patches import cv2_imshow\r\n",
        "from skimage import io\r\n",
        "import matplotlib.pyplot as plt\r\n",
        "import numpy as np\r\n",
        "from math import log10, sqrt\r\n",
        "import glob"
      ],
      "execution_count": 2,
      "outputs": []
    }
  ]
}